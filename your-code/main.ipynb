{
 "cells": [
  {
   "cell_type": "markdown",
   "metadata": {},
   "source": [
    "# Intrduction to NumPy\n",
    "\n",
    "\n",
    "#### 1. Import NumPy under the name np."
   ]
  },
  {
   "cell_type": "code",
   "execution_count": 10,
   "metadata": {},
   "outputs": [],
   "source": [
    "# your code here\n",
    "import numpy as np"
   ]
  },
  {
   "cell_type": "markdown",
   "metadata": {},
   "source": [
    "#### 2. Print your NumPy version."
   ]
  },
  {
   "cell_type": "code",
   "execution_count": 11,
   "metadata": {},
   "outputs": [
    {
     "data": {
      "text/plain": [
       "'1.20.1'"
      ]
     },
     "execution_count": 11,
     "metadata": {},
     "output_type": "execute_result"
    }
   ],
   "source": [
    "# your code here\n",
    "np.version.version"
   ]
  },
  {
   "cell_type": "markdown",
   "metadata": {},
   "source": [
    "#### 3. Generate a 2x3x5 3-dimensional array with random values. Assign the array to variable *a*.\n",
    "**Challenge**: there are at least three easy ways that use numpy to generate random arrays. How many ways can you find?"
   ]
  },
  {
   "cell_type": "code",
   "execution_count": 12,
   "metadata": {},
   "outputs": [
    {
     "data": {
      "text/plain": [
       "(2, 3, 5)"
      ]
     },
     "execution_count": 12,
     "metadata": {},
     "output_type": "execute_result"
    }
   ],
   "source": [
    "# Method 1\n",
    "a = np.random.randint(10,90,(2,3,5))\n",
    "a.shape"
   ]
  },
  {
   "cell_type": "code",
   "execution_count": 13,
   "metadata": {},
   "outputs": [
    {
     "data": {
      "text/plain": [
       "array([[[0.59199297, 0.45272262, 0.49233096, 0.59577109, 0.27489996],\n",
       "        [0.56501828, 0.59156241, 0.39767627, 0.21102486, 0.96341204],\n",
       "        [0.04438875, 0.02299081, 0.84970963, 0.40943689, 0.15816535]],\n",
       "\n",
       "       [[0.65649474, 0.49560809, 0.26110976, 0.85363786, 0.21095225],\n",
       "        [0.30011441, 0.49256038, 0.22184948, 0.32617303, 0.6862462 ],\n",
       "        [0.2898922 , 0.66267702, 0.30583602, 0.97580189, 0.02941319]]])"
      ]
     },
     "execution_count": 13,
     "metadata": {},
     "output_type": "execute_result"
    }
   ],
   "source": [
    "# Method 2\n",
    "a = np.random.random((2,3,5))\n",
    "a"
   ]
  },
  {
   "cell_type": "code",
   "execution_count": 14,
   "metadata": {},
   "outputs": [
    {
     "data": {
      "text/plain": [
       "array([[[ 0.51453283, -0.48218513,  0.18572227,  0.17632637,\n",
       "          0.91836097],\n",
       "        [-1.38621501,  1.66428573, -1.19848688,  1.07660261,\n",
       "         -0.36829204],\n",
       "        [ 0.0903728 , -0.17826103, -1.03213473, -0.04022219,\n",
       "         -0.66187988]],\n",
       "\n",
       "       [[ 0.7256722 , -0.6336865 ,  0.00332352,  2.14434243,\n",
       "          0.90093089],\n",
       "        [ 0.016569  ,  0.12766122, -0.18298487,  0.83897195,\n",
       "         -1.56514429],\n",
       "        [ 1.66574001,  0.31999601,  0.30970394,  1.57622866,\n",
       "         -0.44041356]]])"
      ]
     },
     "execution_count": 14,
     "metadata": {},
     "output_type": "execute_result"
    }
   ],
   "source": [
    "# Method 3\n",
    "a = np.random.randn(2,3,5)\n",
    "a"
   ]
  },
  {
   "cell_type": "markdown",
   "metadata": {},
   "source": [
    "#### 4. Print *a*.\n"
   ]
  },
  {
   "cell_type": "code",
   "execution_count": 15,
   "metadata": {},
   "outputs": [
    {
     "name": "stdout",
     "output_type": "stream",
     "text": [
      "[[[ 0.51453283 -0.48218513  0.18572227  0.17632637  0.91836097]\n",
      "  [-1.38621501  1.66428573 -1.19848688  1.07660261 -0.36829204]\n",
      "  [ 0.0903728  -0.17826103 -1.03213473 -0.04022219 -0.66187988]]\n",
      "\n",
      " [[ 0.7256722  -0.6336865   0.00332352  2.14434243  0.90093089]\n",
      "  [ 0.016569    0.12766122 -0.18298487  0.83897195 -1.56514429]\n",
      "  [ 1.66574001  0.31999601  0.30970394  1.57622866 -0.44041356]]]\n"
     ]
    }
   ],
   "source": [
    "# your code here\n",
    "print(a)"
   ]
  },
  {
   "cell_type": "markdown",
   "metadata": {},
   "source": [
    "#### 5. Create a 5x2x3 3-dimensional array with all values equaling 1. Assign the array to variable *b*."
   ]
  },
  {
   "cell_type": "code",
   "execution_count": 16,
   "metadata": {},
   "outputs": [],
   "source": [
    "# your code here\n",
    "b = np.ones((5,2,3))"
   ]
  },
  {
   "cell_type": "markdown",
   "metadata": {},
   "source": [
    "#### 6. Print *b*.\n"
   ]
  },
  {
   "cell_type": "code",
   "execution_count": 17,
   "metadata": {},
   "outputs": [
    {
     "name": "stdout",
     "output_type": "stream",
     "text": [
      "[[[1. 1. 1.]\n",
      "  [1. 1. 1.]]\n",
      "\n",
      " [[1. 1. 1.]\n",
      "  [1. 1. 1.]]\n",
      "\n",
      " [[1. 1. 1.]\n",
      "  [1. 1. 1.]]\n",
      "\n",
      " [[1. 1. 1.]\n",
      "  [1. 1. 1.]]\n",
      "\n",
      " [[1. 1. 1.]\n",
      "  [1. 1. 1.]]]\n"
     ]
    }
   ],
   "source": [
    "# your code here\n",
    "print(b)"
   ]
  },
  {
   "cell_type": "markdown",
   "metadata": {},
   "source": [
    "#### 7. Do *a* and *b* have the same size? How do you prove that in Python code?"
   ]
  },
  {
   "cell_type": "code",
   "execution_count": 18,
   "metadata": {},
   "outputs": [
    {
     "data": {
      "text/plain": [
       "False"
      ]
     },
     "execution_count": 18,
     "metadata": {},
     "output_type": "execute_result"
    }
   ],
   "source": [
    "# your code here\n",
    "a.shape == b.shape\n",
    "#ver depois size of matrix eu acho que isto é shape"
   ]
  },
  {
   "cell_type": "markdown",
   "metadata": {},
   "source": [
    "#### 8. Are you able to add *a* and *b*? Why or why not?\n"
   ]
  },
  {
   "cell_type": "code",
   "execution_count": 19,
   "metadata": {},
   "outputs": [
    {
     "data": {
      "text/plain": [
       "\"matrixes with different sizes can't be added, by math \""
      ]
     },
     "execution_count": 19,
     "metadata": {},
     "output_type": "execute_result"
    }
   ],
   "source": [
    "# your answer here\n",
    "\n",
    "# a+b\n",
    "\n",
    "\"\"\"matrixes with different sizes can't be added, by math \"\"\""
   ]
  },
  {
   "cell_type": "markdown",
   "metadata": {},
   "source": [
    "#### 9. Transpose *b* so that it has the same structure of *a* (i.e. become a 2x3x5 array). Assign the transposed array to variable *c*."
   ]
  },
  {
   "cell_type": "code",
   "execution_count": 20,
   "metadata": {},
   "outputs": [
    {
     "name": "stdout",
     "output_type": "stream",
     "text": [
      "(2, 3, 5)\n"
     ]
    }
   ],
   "source": [
    "# your code here\n",
    "# print(b.shape) ## (5, 2, 3)\n",
    "c = b.transpose(1,2,0) ## (1,2,0) read docs\n",
    "print(c.shape)"
   ]
  },
  {
   "cell_type": "markdown",
   "metadata": {},
   "source": [
    "#### 10. Try to add *a* and *c*. Now it should work. Assign the sum to variable *d*. But why does it work now?"
   ]
  },
  {
   "cell_type": "code",
   "execution_count": 21,
   "metadata": {},
   "outputs": [
    {
     "data": {
      "text/plain": [
       "'it works because now both a and c have the same dimentions'"
      ]
     },
     "execution_count": 21,
     "metadata": {},
     "output_type": "execute_result"
    }
   ],
   "source": [
    "# your code/answer here\n",
    "# print(a.shape)\n",
    "# print(c.shape)\n",
    "d=a+c\n",
    "\"\"\"it works because now both a and c have the same dimentions\"\"\""
   ]
  },
  {
   "cell_type": "markdown",
   "metadata": {},
   "source": [
    "#### 11. Print *a* and *d*. Notice the difference and relation of the two array in terms of the values? Explain."
   ]
  },
  {
   "cell_type": "code",
   "execution_count": 22,
   "metadata": {},
   "outputs": [
    {
     "name": "stdout",
     "output_type": "stream",
     "text": [
      "[[[ 0.51453283 -0.48218513  0.18572227  0.17632637  0.91836097]\n",
      "  [-1.38621501  1.66428573 -1.19848688  1.07660261 -0.36829204]\n",
      "  [ 0.0903728  -0.17826103 -1.03213473 -0.04022219 -0.66187988]]\n",
      "\n",
      " [[ 0.7256722  -0.6336865   0.00332352  2.14434243  0.90093089]\n",
      "  [ 0.016569    0.12766122 -0.18298487  0.83897195 -1.56514429]\n",
      "  [ 1.66574001  0.31999601  0.30970394  1.57622866 -0.44041356]]]\n",
      "[[[ 1.51453283  0.51781487  1.18572227  1.17632637  1.91836097]\n",
      "  [-0.38621501  2.66428573 -0.19848688  2.07660261  0.63170796]\n",
      "  [ 1.0903728   0.82173897 -0.03213473  0.95977781  0.33812012]]\n",
      "\n",
      " [[ 1.7256722   0.3663135   1.00332352  3.14434243  1.90093089]\n",
      "  [ 1.016569    1.12766122  0.81701513  1.83897195 -0.56514429]\n",
      "  [ 2.66574001  1.31999601  1.30970394  2.57622866  0.55958644]]]\n"
     ]
    },
    {
     "data": {
      "text/plain": [
       "'all cells belonging to d are exatly the cells of a added by 1'"
      ]
     },
     "execution_count": 22,
     "metadata": {},
     "output_type": "execute_result"
    }
   ],
   "source": [
    "# your code/answer here\n",
    "print(a)\n",
    "print(d)\n",
    "\"\"\"all cells belonging to d are exatly the cells of a added by 1\"\"\""
   ]
  },
  {
   "cell_type": "markdown",
   "metadata": {},
   "source": [
    "#### 12. Multiply *a* and *c*. Assign the result to *e*."
   ]
  },
  {
   "cell_type": "code",
   "execution_count": 23,
   "metadata": {},
   "outputs": [],
   "source": [
    "# your code here\n",
    "e=a*c"
   ]
  },
  {
   "cell_type": "markdown",
   "metadata": {},
   "source": [
    "#### 13. Does *e* equal to *a*? Why or why not?\n"
   ]
  },
  {
   "cell_type": "code",
   "execution_count": 24,
   "metadata": {},
   "outputs": [
    {
     "data": {
      "text/plain": [
       "array([[[ True,  True,  True,  True,  True],\n",
       "        [ True,  True,  True,  True,  True],\n",
       "        [ True,  True,  True,  True,  True]],\n",
       "\n",
       "       [[ True,  True,  True,  True,  True],\n",
       "        [ True,  True,  True,  True,  True],\n",
       "        [ True,  True,  True,  True,  True]]])"
      ]
     },
     "execution_count": 24,
     "metadata": {},
     "output_type": "execute_result"
    }
   ],
   "source": [
    "# your code/answer here\n",
    "e==a\n",
    "#voltar aqui"
   ]
  },
  {
   "cell_type": "markdown",
   "metadata": {},
   "source": [
    "#### 14. Identify the max, min, and mean values in *d*. Assign those values to variables *d_max*, *d_min* and *d_mean*."
   ]
  },
  {
   "cell_type": "code",
   "execution_count": 25,
   "metadata": {},
   "outputs": [],
   "source": [
    "# your code here\n",
    "d_max = d.max()\n",
    "d_min = d.min()\n",
    "d_mean = d.mean()"
   ]
  },
  {
   "cell_type": "markdown",
   "metadata": {},
   "source": [
    "#### 15. Now we want to label the values in *d*. First create an empty array *f* with the same shape (i.e. 2x3x5) as *d* using `np.empty`.\n"
   ]
  },
  {
   "cell_type": "code",
   "execution_count": 26,
   "metadata": {},
   "outputs": [],
   "source": [
    "# your code here\n",
    "f = np.empty((2,3,5))"
   ]
  },
  {
   "cell_type": "markdown",
   "metadata": {},
   "source": [
    "#### 16. Populate the values in *f*. \n",
    "\n",
    "For each value in *d*, if it's larger than *d_min* but smaller than *d_mean*, assign 25 to the corresponding value in *f*. If a value in *d* is larger than *d_mean* but smaller than *d_max*, assign 75 to the corresponding value in *f*. If a value equals to *d_mean*, assign 50 to the corresponding value in *f*. Assign 0 to the corresponding value(s) in *f* for *d_min* in *d*. Assign 100 to the corresponding value(s) in *f* for *d_max* in *d*. In the end, f should have only the following values: 0, 25, 50, 75, and 100.\n",
    "\n",
    "**Note**: you don't have to use Numpy in this question."
   ]
  },
  {
   "cell_type": "code",
   "execution_count": 27,
   "metadata": {},
   "outputs": [],
   "source": [
    "# your code here\n",
    "new_f = [] \n",
    "for group in d:\n",
    "    for row in group:\n",
    "        for num in row:\n",
    "            if (d_min < num) and (num < d_mean):\n",
    "                new_f.append(25)\n",
    "            elif (d_mean < num) and (num < d_max):\n",
    "                new_f.append(75)\n",
    "            elif (num == d_mean):\n",
    "                new_f.append(50)\n",
    "            elif (num == d_min):\n",
    "                new_f.append(0)\n",
    "            else:\n",
    "                new_f.append(100)\n",
    "new_f = np.reshape(new_f, d.shape)\n",
    "f = new_f"
   ]
  },
  {
   "cell_type": "markdown",
   "metadata": {},
   "source": [
    "#### 17. Print *d* and *f*. Do you have your expected *f*?\n",
    "For instance, if your *d* is:\n",
    "```python\n",
    "[[[1.85836099, 1.67064465, 1.62576044, 1.40243961, 1.88454931],\n",
    "[1.75354326, 1.69403643, 1.36729252, 1.61415071, 1.12104981],\n",
    "[1.72201435, 1.1862918 , 1.87078449, 1.7726778 , 1.88180042]],\n",
    "[[1.44747908, 1.31673383, 1.02000951, 1.52218947, 1.97066381],\n",
    "[1.79129243, 1.74983003, 1.96028037, 1.85166831, 1.65450881],\n",
    "[1.18068344, 1.9587381 , 1.00656599, 1.93402165, 1.73514584]]]\n",
    "```\n",
    "Your *f* should be:\n",
    "```python\n",
    "[[[ 75.,  75.,  75.,  25.,  75.],\n",
    "[ 75.,  75.,  25.,  25.,  25.],\n",
    "[ 75.,  25.,  75.,  75.,  75.]],\n",
    "[[ 25.,  25.,  25.,  25., 100.],\n",
    "[ 75.,  75.,  75.,  75.,  75.],\n",
    "[ 25.,  75.,   0.,  75.,  75.]]]\n",
    "```"
   ]
  },
  {
   "cell_type": "code",
   "execution_count": 28,
   "metadata": {},
   "outputs": [
    {
     "name": "stdout",
     "output_type": "stream",
     "text": [
      "[[[ 1.51453283  0.51781487  1.18572227  1.17632637  1.91836097]\n",
      "  [-0.38621501  2.66428573 -0.19848688  2.07660261  0.63170796]\n",
      "  [ 1.0903728   0.82173897 -0.03213473  0.95977781  0.33812012]]\n",
      "\n",
      " [[ 1.7256722   0.3663135   1.00332352  3.14434243  1.90093089]\n",
      "  [ 1.016569    1.12766122  0.81701513  1.83897195 -0.56514429]\n",
      "  [ 2.66574001  1.31999601  1.30970394  2.57622866  0.55958644]]]\n",
      "[[[ 75  25  75  75  75]\n",
      "  [ 25  75  25  75  25]\n",
      "  [ 25  25  25  25  25]]\n",
      "\n",
      " [[ 75  25  25 100  75]\n",
      "  [ 25  25  25  75   0]\n",
      "  [ 75  75  75  75  25]]]\n"
     ]
    }
   ],
   "source": [
    "# your code here\n",
    "print(d)\n",
    "print(f)"
   ]
  },
  {
   "cell_type": "markdown",
   "metadata": {},
   "source": [
    "#### 18. Bonus question: instead of using numbers (i.e. 0, 25, 50, 75, and 100), use string values  (\"A\", \"B\", \"C\", \"D\", and \"E\") to label the array elements. For the example above, the expected result is:\n",
    "\n",
    "```python\n",
    "[[[ 'D',  'D',  'D',  'B',  'D'],\n",
    "[ 'D',  'D',  'B',  'B',  'B'],\n",
    "[ 'D',  'B',  'D',  'D',  'D']],\n",
    "[[ 'B',  'B',  'B',  'B',  'E'],\n",
    "[ 'D',  'D',  'D',  'D',  'D'],\n",
    "[ 'B',  'D',   'A',  'D', 'D']]]\n",
    "```\n",
    "**Note**: you don't have to use Numpy in this question."
   ]
  },
  {
   "cell_type": "code",
   "execution_count": 29,
   "metadata": {},
   "outputs": [
    {
     "name": "stdout",
     "output_type": "stream",
     "text": [
      "[[['E' 'B' 'E' 'E' 'E']\n",
      "  ['B' 'E' 'B' 'E' 'B']\n",
      "  ['B' 'B' 'B' 'B' 'B']]\n",
      "\n",
      " [['E' 'B' 'B' 'F' 'E']\n",
      "  ['B' 'B' 'B' 'E' 'A']\n",
      "  ['E' 'E' 'E' 'E' 'B']]]\n"
     ]
    }
   ],
   "source": [
    "# your code here\n",
    "# your code here\n",
    "new_f = [] \n",
    "for group in d:\n",
    "    for row in group:\n",
    "        for num in row:\n",
    "            if (d_min < num) and (num < d_mean):\n",
    "                new_f.append('B')\n",
    "            elif (d_mean < num) and (num < d_max):\n",
    "                new_f.append('E')\n",
    "            elif (num == d_mean):\n",
    "                new_f.append('C')\n",
    "            elif (num == d_min):\n",
    "                new_f.append('A')\n",
    "            else:\n",
    "                new_f.append('F')\n",
    "new_f = np.reshape(new_f, d.shape)\n",
    "f = new_f\n",
    "print(f)"
   ]
  }
 ],
 "metadata": {
  "kernelspec": {
   "display_name": "Python 3",
   "language": "python",
   "name": "python3"
  },
  "language_info": {
   "codemirror_mode": {
    "name": "ipython",
    "version": 3
   },
   "file_extension": ".py",
   "mimetype": "text/x-python",
   "name": "python",
   "nbconvert_exporter": "python",
   "pygments_lexer": "ipython3",
   "version": "3.8.8"
  }
 },
 "nbformat": 4,
 "nbformat_minor": 2
}
